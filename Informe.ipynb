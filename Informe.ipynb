{
 "cells": [
  {
   "cell_type": "markdown",
   "metadata": {},
   "source": [
    "# Análisis de Sentimientos en Español Escrito mediante Machine Learning\n",
    "\n",
    "- Nicolás Fredes \n",
    "- Diego Lazcano\n",
    "- Iván Opitz"
   ]
  },
  {
   "cell_type": "markdown",
   "metadata": {},
   "source": [
    "## Descargar Tweets para crear el modelo\n",
    "El programa \"tweet4.py\" se encarga de descargar tweets y pre procesarlos, dejándolos listos para usarlos en la creación del modelo. Este programa guarda, en un archivo llamado dataTweet, los tweets descargados como una lista de listas, en que cada una de las listas dentro de esta lista principal es un tweet pre procesado. Los elementos de la lista correspondiente a cada tweew son las palabras de dicho tweet. \n",
    "\n",
    "El pre procesado se hace utilizando el programa \"ppsing.py\". En este programa se toma el texto del tweet y se realizan las siguientes acciones: \n",
    "\n",
    "- Dado que viene con el URL de si mismo al final del texto, fue necesario eliminarlo para que no afecte al modelo.\n",
    "\n",
    "- Pasa todas las letras a minúsculas. Esto para que el modelo no considere a dos palabras iguales, una escrita con mayúsculas      y otra con minúsculas, como palabras diferentes.\n",
    "\n",
    "- Elimina todos los símbolos (!, \", #, &, (, ), etc).\n",
    "\n",
    "- Elimina todas las stop words (o palabras vacías).\n",
    "\n",
    "- Lematiza verbos para que el hecho de tener diferentes morfemas no implique que se consideren como palabras diferentes.\n",
    "\n",
    "- Singulariza sustantivos y adjetivos para que no tome a una palabra singular y su respectivo plural como palabras diferentes."
   ]
  },
  {
   "cell_type": "code",
   "execution_count": 2,
   "metadata": {},
   "outputs": [
    {
     "name": "stdout",
     "output_type": "stream",
     "text": [
      "cantidad de frases:2\n",
      "bajando...\n",
      "\n",
      "guardado...\n",
      "9\n",
      "fin\n",
      "\n"
     ]
    }
   ],
   "source": [
    "%run -i tweet4.py"
   ]
  },
  {
   "cell_type": "markdown",
   "metadata": {},
   "source": [
    "# Word2Vec\n",
    "Word2Vec es un algoritmo de Word embedding, lo que permite transformar palabras en vectores considerando su contenido y relación semantica, este consiste en tres capas de neuronas, una de entrada, capa interna y de salida, donde la activación de la capa intermedia es lineal, y la activación de la capa de salida esta dada por una función softmax, la cual busca disminuir la entropía en la determinación de la salida, maximizando la probabilidad de que esta sea mapeada, de forma one hot encoding, en el mismo vector en el que fue codificada en la capa de entrada.\n",
    "\n",
    "Existen dos modelos importantes para Word2Vec, CBOW (bolsa de palabras) y Skip-Gram, donde la primera busca establecer en la capa de salida, palabras relacionadas a un conjunto de otras palabras en la capa de entrada (busca palabras dado un contexto), y el segundo busca determinar un conjunto de palabras o contexto en la capa de entrada, dadas varias palabras sematicamente similares en la capa de salida (busca contexto dado palabras).\n"
   ]
  },
  {
   "cell_type": "markdown",
   "metadata": {},
   "source": [
    "# Creación del modelo.\n",
    "En esta sección veremos la forma en que, utilizando lo obtenido de \"tweet4.py\", podemos entrenar nuestro modelo utilizando la función Word2Vec, implementada en la libreria de python llamada gensim.\n",
    "\n",
    "Los parametros que utilizamos para esta función fueron los siguientes:\n",
    "\n",
    "- sg = 1. Si sg vale 1 entonces se utiliza skip-gram para entrenar el modelo. En otro caso se usa CBOW.\n",
    "- size = 400. Size indica la dimención de cada vector obtenido con el modelo.\n",
    "- window = 5. Indica la cantidad de palabras dentro de una oración usadas para la predicción de cada palabra.\n",
    "- min_count = 50. Indica la cantidad minima de veces que debe aparecer una palabra en el corpus para que sea tomada en cuenta en el modelo.\n",
    "- workers = -1. Indica la cantidad de hilos que se van a ocupar para entrenar el modelo. -1 indica que se van a usar todos los disponibles.\n",
    "- negative = 15. Indica la cantidad de pablaras negativas a considerar al entrenar para cada palabra en el modelo (palabras no relacionadas con la palabra original y que deben ser mapeadas a 0).\n",
    "- iter = 10000. Indica el numero de epocas a utilizar sobre el corpus.\n",
    "\n",
    "La función cuenta con otros parametros que dejamos por defecto. Para mas detalles ver el siguiente link: https://github.com/RaRe-Technologies/gensim/blob/develop/gensim/models/word2vec.py"
   ]
  },
  {
   "cell_type": "code",
   "execution_count": 1,
   "metadata": {},
   "outputs": [
    {
     "name": "stderr",
     "output_type": "stream",
     "text": [
      "C:\\Users\\Nicolas\\Anaconda3\\lib\\site-packages\\gensim\\utils.py:1197: UserWarning: detected Windows; aliasing chunkize to chunkize_serial\n",
      "  warnings.warn(\"detected Windows; aliasing chunkize to chunkize_serial\")\n"
     ]
    }
   ],
   "source": [
    "from gensim.models import Word2Vec\n",
    "import pickle\n",
    "\n",
    "infile = open('datareal','rb')\n",
    "oraciones = pickle.load(infile)\n",
    "infile.close()\n",
    "\n",
    "modelo = Word2Vec(oraciones, sg=1,size=400,window=5,min_count=20,workers=-1,negative=15,iter=10000)\n",
    "\n",
    "modelo.save('modelo_prueba')"
   ]
  },
  {
   "cell_type": "markdown",
   "metadata": {},
   "source": [
    "## Signed spectral clustering\n",
    "\n",
    "Este algoritmo es una modificación de Spectral Clustering, el cual esta diseñado para hacer clusters en Grafos $G=(V,W)$, con los vertices $V=\\{v_{1},...,v_{m}\\}$ y matriz de afinidad $W$, este algoritmo se basa en dos partes importantes. La primera es Spectral embedding, el cual encuentra los vectores que minimizan el funcional:\n",
    "$$min_{X}\\{tr(X^{T}LX)\\}$$\n",
    "$$sujeto\\, a\\,\\, X^{T}DX=I$$\n",
    "Donde $D$ es una matriz diagonal cuyos elementos son $d_{i}=d_{i}(v_{i})=\\sum_{j=1}^{m}|w_{ij}|$, y $L$ es el laplaciano definido como $L=D-W$.\n",
    "\n",
    "Una vez realizado el spectral embedding, la segunda parte consiste en utilizar el $discretice$ para encontrar una matriz cuyos elementos son 1 y 0, e indican a que cluster corresponde cada palabra del vocabulario.\n",
    "La diferencia con Signed Spectral Clustering, es que este admite pesos $w_{ij}$ negativos para la matriz de afinidad W, lo que se ve reflejado en un suerte anti relación entre palabras, lo que permite separar los antonimos al momento del clustering, a pesar de que estos aparezcan muy proximos en el espacio vectorial por su similaridad semantica, el cual es uno de los mayores problemas de Word2Vec. El calculo de $D$ y $L$ son iguales pero se diferencian es que estos poseen signo.\n",
    "\n",
    "## Definir matriz de afinidad W\n",
    "Una de las partes importantes de este algoritmo es definir la matriz de afinidad, la cual en forma estandar se inicializa (W_init) aplicando algún kernel sobre el espacio vectorial, y asignando cada elemento de dicha matriz como función de cada par posible de vectores, por ejemplo:\n",
    "$$w_{ij}=e^{\\dfrac{||v_{i}-v_{j}||_{2}}{\\sigma}}$$\n",
    "Donde $w_{ij}$ es el elemento $i,j$ de la matriz $W$ y $v_{i},v_{j}$ son los vectores correspondientes a las palabras de la posición $i,j$ del vocabulario, respectivamente.\n",
    "\n",
    "Posteriormente para la consideración del signo se utiliza un Tesaurio que entrega una lista de relaciones de antonimos y sininomos entre algunas palabras del vocabulario. Cada lista se traduce en un matriz T_syn y T_ant, la primera entrega un 1 entre pares de sinonimos, la segunda un -1 entre pares de antonimos, y ambas arrojan 0 en cualquier otro caso. Finalmente, se setea una matriz de afinidad que porta la información del modelo vectorial pasado por algun kernel (gausseano, cosine, entre otros posibles), combinado con la información del tesaurio, de la siguiente forma:\n",
    "\n",
    "$$W = \\alpha \\; W_{init} + \\beta_{syn}\\; W_{init} \\circ T_{syn} + \\beta_{ant}\\; W_{init} \\circ T_{ant}$$\n",
    "\n",
    "Es esta W la que se entrega al Signed Spectral clustering para la creación de los clusters. Los hiperparametros $\\alpha$, $\\beta_{syn}$, $\\beta_{ant}$ son escalares que deben ser seteados bajo algun criterio de optimización, y el operador $\\circ$ corresponde al producto de Hadamard. \n",
    "\n"
   ]
  },
  {
   "cell_type": "markdown",
   "metadata": {},
   "source": [
    "## Creación de clusters\n"
   ]
  },
  {
   "cell_type": "code",
   "execution_count": 2,
   "metadata": {},
   "outputs": [],
   "source": [
    "from gensim.models import Word2Vec\n",
    "import pickle\n",
    "import wordgraph\n",
    "\n",
    "try:\n",
    "    vocab = list(modelo.wv.vocab.keys())\n",
    "except:\n",
    "    modelo = Word2Vec.load('modelo_prueba')\n",
    "    vocab = list(modelo.wv.vocab.keys())\n",
    "kwds=dict()\n",
    "kwds['gamma']=1/0.002\n",
    "\n",
    "T_sin,T_ant = wordgraph.T_syn_ant(vocab)\n"
   ]
  },
  {
   "cell_type": "code",
   "execution_count": 4,
   "metadata": {},
   "outputs": [
    {
     "name": "stderr",
     "output_type": "stream",
     "text": [
      "C:\\Users\\Nicolas\\Anaconda3\\lib\\site-packages\\ipykernel_launcher.py:2: DeprecationWarning: Call to deprecated `__getitem__` (Method will be removed in 4.0.0, use self.wv.__getitem__() instead).\n",
      "  \n"
     ]
    }
   ],
   "source": [
    "#las siguientes matrices, se colocan separadas ya que W_gauss requiere mas calculo\n",
    "W_gauss = wordgraph.W_init(modelo[vocab],kernel='gaus',**kwds)\n",
    "W_final = wordgraph.W(W_gauss,T_ant,T_sin,0.5,1.0,1.0)\n",
    "\n",
    "##guardar matriz de afinidad\n",
    "outfile=open('W_final','wb')\n",
    "pickle.dump(W_final,outfile)\n",
    "outfile.close()"
   ]
  },
  {
   "cell_type": "code",
   "execution_count": 1,
   "metadata": {},
   "outputs": [],
   "source": [
    "# También es posible cargar directamente la matriz de afinidad ya guardada.\n",
    "import pickle\n",
    "infile=open('W_final','rb')\n",
    "W_final=pickle.load(infile)\n",
    "infile.close()"
   ]
  },
  {
   "cell_type": "code",
   "execution_count": 5,
   "metadata": {},
   "outputs": [],
   "source": [
    "#Se generan los clusters para la matriz de afinidad obtenida.\n",
    "#Este calculo requiere de un tiempo no despreciable, por lo que en el siguiente recuadro se ofrece cargar el archivo guardado.\n",
    "from Signed_clustering import signed_spectral_clustering as ssc\n",
    "\n",
    "clusters=ssc(W_final,n_clusters=300)\n",
    "\n",
    "##guardar clusters\n",
    "outfile=open('clusters','wb')\n",
    "pickle.dump(clusters,outfile)\n",
    "outfile.close()"
   ]
  },
  {
   "cell_type": "code",
   "execution_count": 4,
   "metadata": {},
   "outputs": [],
   "source": [
    "#También es posible cargar directamente los clusters anteriormente guardados.\n",
    "infile=open('clusters','rb')\n",
    "clusters=pickle.load(infile)\n",
    "infile.close()"
   ]
  },
  {
   "cell_type": "code",
   "execution_count": 6,
   "metadata": {},
   "outputs": [
    {
     "name": "stdout",
     "output_type": "stream",
     "text": [
      "el costo es 1361 \n",
      "\n",
      "[198, 10, 12, 13, 7, 8, 10, 40, 10, 7, 9, 9, 13, 6, 6, 64, 8, 12, 9, 8, 45, 23, 3, 6, 10, 9, 15, 30, 16, 19, 14, 6, 4, 13, 8, 7, 12, 55, 12, 9, 63, 11, 6, 12, 126, 12, 35, 92, 104, 8, 13, 10, 105, 5, 9, 16, 18, 13, 13, 10, 5, 9, 16, 11, 7, 9, 12, 7, 10, 23, 135, 51, 19, 11, 33, 12, 15, 9, 13, 13, 75, 7, 10, 13, 34, 68, 17, 10, 17, 11, 6, 9, 13, 101, 14, 15, 15, 14, 10, 11, 12, 105, 9, 10, 8, 16, 85, 10, 16, 13, 9, 5, 9, 11, 100, 11, 13, 18, 16, 16, 44, 9, 13, 103, 10, 12, 7, 7, 15, 11, 10, 5, 10, 29, 13, 38, 16, 8, 66, 9, 10, 10, 11, 8, 11, 129, 11, 37, 93, 11, 25, 49, 11, 7, 48, 5, 38, 11, 44, 36, 44, 11, 12, 13, 59, 7, 14, 54, 27, 7, 56, 5, 5, 8, 8, 54, 12, 11, 90, 16, 9, 13, 9, 60, 12, 7, 6, 16, 14, 55, 57, 5, 55, 10, 26, 9, 60, 33, 4, 45, 52, 16, 10, 59, 11, 121, 9, 102, 12, 93, 10, 8, 19, 79, 49, 9, 105, 17, 91, 4, 9, 53, 84, 9, 48, 10, 43, 8, 11, 81, 6, 10, 34, 36, 14, 41, 46, 12, 108, 41, 46, 33, 67, 6, 40, 57, 118, 9, 7, 21, 86, 87, 80, 48, 45, 8, 103, 94, 62, 4, 92, 96, 67, 51, 102, 62, 4, 5, 82, 43, 103, 11, 28, 48, 59, 59, 8, 21, 36, 90, 61, 8, 38, 47, 88, 18, 34, 6, 10, 49, 52, 62, 63, 76, 93, 51, 61, 97, 146]\n",
      "\n",
      "\n"
     ]
    },
    {
     "data": {
      "text/plain": [
       "['corazón',\n",
       " 'amor',\n",
       " 'paraíso',\n",
       " 'cielo',\n",
       " 'sol',\n",
       " 'gusto',\n",
       " 'cariño',\n",
       " 'simpatía',\n",
       " 'ternura',\n",
       " 'sabor',\n",
       " 'afecto']"
      ]
     },
     "execution_count": 6,
     "metadata": {},
     "output_type": "execute_result"
    }
   ],
   "source": [
    "#Las siguientes funciones entregan caracteristicas de los clusters realizados \n",
    "import metrics\n",
    "\n",
    "# indica el costo del modelo: la cantidad de sinonimos en clusters opuestos y \n",
    "# antonimos en mismo clusters\n",
    "cost=metrics.metric(T_ant,T_sin,clusters)\n",
    "print(\"el costo es\",cost,'\\n')\n",
    "\n",
    "# Esta funcion entrega un arrai con la cantidad de elemento de cada cluster\n",
    "dist=metrics.distribution(clusters)\n",
    "print(dist)\n",
    "print('\\n')\n",
    "\n",
    "#indica los elementos del cluster en que esta la palabra\n",
    "word='amor'\n",
    "metrics.show_cluster (vocab,clusters,word)"
   ]
  },
  {
   "cell_type": "markdown",
   "metadata": {},
   "source": [
    "# Asignación de Frase\n",
    "Un problema fundamental de la implementación final, es determinar cual es el cluster más representativo según la frase, para ello se debe tener en cuenta que cada frase es un conjunto de nodos, por lo cual se decide calcular el promedio entre los enlaces positivos, negativos, positivos del complemento, y negativos del complemento para cualquier cluster, donde el complemento son los otros clusters.\n",
    "\n",
    "Realizar esto requiere ir recorriendo de forma iterativa la matriz de afinidad por cada palabra, lo que en tiempo real se traduce a un algoritmo bastante lento. Para disminuir el tiempo de ejecución en timepo real, se decidio generar tablas (diccionarios) donde el indice son los cluster y posee la información de la suma de los elementos negativos y positivos por palabra. Por ejemplo sea $H$ la tabla y se desea encontrar la suma de los enlaces positivos del nodo $v_{i}$, para el cluster $c_{x}$ entonces se debe recorrer la tabla de la siguiente forma:\n",
    "$$H\\rightarrow c_{i}  \\rightarrow pos\\rightarrow i = \\sum_{v_{i},v_{j}\\in c_{x}}w_{ij}$$\n",
    "\n",
    "Además la tabla guarda información sobre la cantidad de elementos engativos y positivos de un cluster para el calculo del promedio."
   ]
  },
  {
   "cell_type": "code",
   "execution_count": 7,
   "metadata": {},
   "outputs": [],
   "source": [
    "# creacion de la tabla denominada links\n",
    "#senti_labeles son los clusters de interes (sentimentales), si no se coloca nada entonces\n",
    "#calcula la tabla por todos los clusters\n",
    "import metrics\n",
    "links=metrics.links_clusters (W_final,clusters,senti_labels=None)\n",
    "\n"
   ]
  },
  {
   "cell_type": "markdown",
   "metadata": {},
   "source": [
    "Una vez creada la tabla, pueden existir distintas maneras de evaluar la frase con los clusters, nosotros definimos ocupar el siguiente funcional:\n",
    "$$\\bar{X}_{+}(frase,C_{x})+\\bar{X}_{-}(frase,C_{x}^{C})-\\bar{X}_{+}(frase,C_{x}^{C})-\\bar{X}_{-}(frase,C_{x})$$\n",
    "Donde $\\bar{X}_{+}(A,B)$ es el promedio de todos los enlaces positivos entre $A$ y $B$, y $\\bar{X}_{-}(A,B)$, es el promedio de todos los enlaces negativos entre $A$ y $B$ en valor absoluto. Por lo tanto se elige el cluster $C$, tal que el funcional sea mas grande.\n"
   ]
  },
  {
   "cell_type": "code",
   "execution_count": 12,
   "metadata": {},
   "outputs": [
    {
     "name": "stdout",
     "output_type": "stream",
     "text": [
      "[['te', 'odio', 'ser', 'insoportable', 'feo', 'y', 'tonto']]\n"
     ]
    }
   ],
   "source": [
    "# simCluster entrega un diccionario donde la llave son los cluster\n",
    "from ppsing import ptext\n",
    "oracion=ptext('Te odio! Eres insoportable, feo y tonto.')\n",
    "print(oracion)\n",
    "func=metrics.simCluster(vocab,oracion[0],links)"
   ]
  },
  {
   "cell_type": "code",
   "execution_count": 14,
   "metadata": {
    "scrolled": false
   },
   "outputs": [
    {
     "name": "stdout",
     "output_type": "stream",
     "text": [
      "El cluster más similar dado por:\n",
      " ['básico', 'sencillo', 'estúpido', 'animal', 'fauna', 'simple', 'tonto', 'bruto', 'bestia', 'imbécil', 'idiota', 'memo', 'burro']\n",
      "Además, el valor de su funcional es 0.5002966036496921\n"
     ]
    }
   ],
   "source": [
    "cluster_word=metrics.dict_cluster(vocab,clusters)\n",
    "label=metrics.position(func)\n",
    "\n",
    "print('El cluster más similar dado por:\\n',cluster_word[label])\n",
    "print('Además, el valor de su funcional es',func[label])"
   ]
  },
  {
   "cell_type": "markdown",
   "metadata": {},
   "source": [
    "# Análisis de sentimientos\n",
    "\n",
    "Una vez que se posee la tabla links y los clusters de algun modelo respectivo, es posible crear etiquetas para estos clusters, es decir, es posible asignarle manualmente el calificativo de negativo, positivo o neutro, esto también se podría realizar de otra forma, por ejemplo se podría asignar las etiquetas correspondientes a una gama más amplia de sentimientos, o de inclinaciones politicas, puesto que con los clusters creados las relaciones semanticas ya estan presentes, y basta una simple inspección del cluster para clasificarlo segun alguna definición de categorias pre establecidas. Esto corresponden a una semi supervisión del problema en cuestión, puesto que solo es necesaria la clasificación manual del numero de clusters (del orden de cientos), que es considerablemente inferior al tamaño del vocabulario (del orden de decenas de miles). Teniendo así que asignar aproximadamente el 2% de etiquetas que se necesitarían si uno afrontase el problema de manera totalmente supervisada desde el principio.\n",
    "\n",
    "Por simplicidad se utilizó solo las categorias de positivo, negativo y neutro, para analizar los sentimientos de alguna frase o tweet. Para abordar esto se crearon ciertos modelos claves, a los cuales se les calculó sus clusters respectivos y se creo un diccionario para cada uno, el cual contiene que clusters corresponden a cada una de las categorias ya mencionadas. A continuación se ilustran dos de estos  modelos y se realiza el análisis de sentimientos respectivo.\n",
    " \n",
    "Es importante notar que esto se podría realizar con cualquier modelo que se cree posteriormente, pero sera necesario pasar por el proceso de clasificación de los clusters, para la creación del diccionario que posee las categorías (class_clusters), de forma manual."
   ]
  },
  {
   "cell_type": "code",
   "execution_count": 15,
   "metadata": {},
   "outputs": [
    {
     "name": "stdout",
     "output_type": "stream",
     "text": [
      "El tweet se considera sentimentalmente positivo.\n",
      "\n",
      "Además posee la carga porcentual por sentimiento de, positivo: 33.6138474835983%, negativo: 32.90686238150698%, neutro: 33.479290134894725%.\n"
     ]
    },
    {
     "data": {
      "text/plain": [
       "{'negativo': 0.3855031182376159,\n",
       " 'neutro': 0.39220909589474856,\n",
       " 'positivo': 0.3937854320676}"
      ]
     },
     "execution_count": 15,
     "metadata": {},
     "output_type": "execute_result"
    }
   ],
   "source": [
    "# MODELO 1\n",
    "#El vocabulario, links y class_cluster posterior corresponde a un modelo creado con 1 millon de frases, el cual mediante\n",
    "# un kernel basado en la distancia cosine, combinado con una lupa exponencial (como la que se ocupa en el kernel gaussiano)\n",
    "# forma la matriz W final, a la cual se le calculan 300 clusters que son posteriormente categorizados en class_clusters.\n",
    "# Para mayor detalle revisar readme de la carpeta version_2 (carpeta correspondiente a este modelo, sus clusters, etc.)\n",
    "\n",
    "import wordgraph as wg\n",
    "import sentiment_analysis as sa\n",
    "\n",
    "clusters_1 = wg.load_matrix('clusters_g')\n",
    "vocab_1 = wg.load_matrix('vocab_g')\n",
    "links_1 = wg.load_matrix('links_g')\n",
    "class_clusters_1 = wg.load_matrix('class_clusters_g')\n",
    "\n",
    "#Es posible analizar cualquier frase en cuestión, para esto es necesaria definirla como frase de la siguiente manera,\n",
    "frase = 'Te amo con todo mi corazon, eres lo mejor de mi vida.'\n",
    "\n",
    "#Luego se procede a sus análisis de sentimientos\n",
    "\n",
    "sa.senti_tweet(vocab=vocab_1,links=links_1,class_clusters=class_clusters_1,tweet=frase)"
   ]
  },
  {
   "cell_type": "code",
   "execution_count": 16,
   "metadata": {},
   "outputs": [
    {
     "data": {
      "text/plain": [
       "['corazón',\n",
       " 'centro',\n",
       " 'enlace',\n",
       " 'pasión',\n",
       " 'amor',\n",
       " 'paraíso',\n",
       " 'cielo',\n",
       " 'sol',\n",
       " 'intimidad',\n",
       " 'aventura',\n",
       " 'ojo',\n",
       " 'gusto',\n",
       " 'núcleo',\n",
       " 'cariñito',\n",
       " 'cariño',\n",
       " 'amado',\n",
       " 'simpatía',\n",
       " 'ternura',\n",
       " 'bondad',\n",
       " 'esencia',\n",
       " 'afecto',\n",
       " 'caricia',\n",
       " 'apego']"
      ]
     },
     "execution_count": 16,
     "metadata": {},
     "output_type": "execute_result"
    }
   ],
   "source": [
    "#Si se desea explorar la calidad de esto clusters se puede revisar donde queda cada palabra de la siguiente forma\n",
    "import metrics\n",
    "#indica los elementos del cluster en que esta la palabra\n",
    "word='amor'\n",
    "metrics.show_cluster (vocab_1,clusters_1,word)"
   ]
  },
  {
   "cell_type": "code",
   "execution_count": 17,
   "metadata": {
    "scrolled": true
   },
   "outputs": [
    {
     "name": "stdout",
     "output_type": "stream",
     "text": [
      "El tweet se considera sentimentalmente positivo.\n",
      "\n",
      "Además posee la carga porcentual por sentimiento de, positivo: 33.8527418465483%, negativo: 32.411452083372524%, neutro: 33.735806070079185%.\n"
     ]
    },
    {
     "data": {
      "text/plain": [
       "{'negativo': 0.3646413749486437,\n",
       " 'neutro': 0.3795408696516032,\n",
       " 'positivo': 0.3808564423757965}"
      ]
     },
     "execution_count": 17,
     "metadata": {},
     "output_type": "execute_result"
    }
   ],
   "source": [
    "# MODELO 2\n",
    "#El vocabulario, links y class_cluster posterior corresponde a un modelo creado con 245.376 frases, el cual mediante\n",
    "# un kernel gaussiano de Sklearn forma la matriz W final, a la cual se le calculan 300 clusters que son posteriormente\n",
    "# categorizados en class_clusters. \n",
    "# Para mayor detalle revisar readme de la carpeta version_4 (carpeta correspondiente a este modelo, sus clusters, etc.)\n",
    "\n",
    "import wordgraph as wg\n",
    "import sentiment_analysis as sa\n",
    "\n",
    "clusters_2 = wg.load_matrix('clusters_i')\n",
    "vocab_2 = wg.load_matrix('vocab_i')\n",
    "links_2 = wg.load_matrix('links_i')\n",
    "class_clusters_2 = wg.load_matrix('class_clusters_i')\n",
    "\n",
    "#Es posible analizar cualquier frase en cuestión, para esto es necesaria definirla como frase de la siguiente manera,\n",
    "frase = 'Te amo con todo mi corazon, eres lo mejor de mi vida.'\n",
    "\n",
    "#Luego se procede a sus análisis de sentimientos\n",
    "\n",
    "sa.senti_tweet(vocab=vocab_2,links=links_2,class_clusters=class_clusters_2,tweet=frase)"
   ]
  },
  {
   "cell_type": "code",
   "execution_count": 18,
   "metadata": {
    "scrolled": true
   },
   "outputs": [
    {
     "data": {
      "text/plain": [
       "['corazón',\n",
       " 'enlace',\n",
       " 'pasión',\n",
       " 'amor',\n",
       " 'paraíso',\n",
       " 'entusiasmo',\n",
       " 'cielo',\n",
       " 'sol',\n",
       " 'romance',\n",
       " 'aventura',\n",
       " 'gusto',\n",
       " 'cariño',\n",
       " 'simpatía',\n",
       " 'ternura',\n",
       " 'sabor',\n",
       " 'bondad',\n",
       " 'afecto']"
      ]
     },
     "execution_count": 18,
     "metadata": {},
     "output_type": "execute_result"
    }
   ],
   "source": [
    "#Si se desea explorar la calidad de esto clusters se puede revisar donde queda cada palabra de la siguiente forma\n",
    "import metrics\n",
    "#indica los elementos del cluster en que esta la palabra\n",
    "word='amor'\n",
    "metrics.show_cluster(vocab_2,clusters_2,word)"
   ]
  },
  {
   "cell_type": "markdown",
   "metadata": {},
   "source": [
    "# Matrices de Confusión\n",
    "\n",
    "Para analizar el rango de acierto u error del análisis de sentimientos, se seleccionaron 285 tweets reales, y se clasificaron manualmente como positivos, negativos o neutros. Luego de esto, para cada uno de los tweets selecionados, se comparo esta clasificación manual con el resultado de analizar sentimentalmente dicho tweet con la funciones creadas, para así saber que tan proximo es el resultado obtenido del real, y así poder formar las matrices de confusión.\n",
    "\n",
    "Para esto se formo un archivo tweets_clasificados que posee un diccionario con llaves 'positivo', 'negativo' y 'neutro', en cada una se encuentra un lista de tweets previamente clasificados, cuya carga emocional se corresponde con la llave del diccionario en la que se encuentra.\n",
    "\n",
    "Es importante notar que para poder comparar los resultados de tweets_clasificados y las funciones de análisis sentimental, se debe poseer un modelo con los clusters ya clasificados (class_clusters), por lo cual se procede a calcular las matrices de confusión para los mismos 2 modelos utilizados en la sección de Análisis de sentimientos."
   ]
  },
  {
   "cell_type": "code",
   "execution_count": 19,
   "metadata": {},
   "outputs": [
    {
     "name": "stdout",
     "output_type": "stream",
     "text": [
      "['En solidaridad con los vecinos de Ñuñoa, apoyemos este Malón ciudadano participando en él https://t.co/FjuyO6xZbh', 'Yaaa,buenas noches\\n10-4', 'Campeón de la clase obrera: https://t.co/1gdtFYUS8g', 'Fue grato verte!!! https://t.co/TfW1msN9KC', 'La @clausanhueza la mejor!!! https://t.co/wWe5EaJaEQ', 'Aun esta viva', 'La amo demasiado https://t.co/hFynzUh2zn', 'Hoy fue un dia tan lindito y espero que mañana sea mejor! ❤️', 'Buen punto https://t.co/wRc7lOaFPE', 'Este martes 14 en Cabo Blanco Cocina &amp; Taller. Los secretos de la cocina árabe palestina !\\nUna vez mas compartiremos sabores y aromas del medio oriente ! \\nTaller lleno !\\nGracias… https://t.co/7kqNbLOSKT', '@eamarines87 Buenas noches!!', '@Chikor1a_ @___babykofii Jeje gracias por entender.', 'No dejes que las cosas que quieres te hagan olvidar de las cosas que tienes', 'Gran concierto imperdible!!. Ya falta poco para disfrutar de toda la música y poesía de éste gran artista. https://t.co/cyrMTrfM7z', 'Quiero mi casa', '@evasotoa Si tu mamá entiende q eres feliz....no es mas q un momento q ya pasó..', '@Sangre_Cruzada @HernanGajardo75 @ivanehs Te tocó piola el día, ánimo!!', '@AndresFarah Pero como me gusta Rugrats ..me quedo con Carlitos 😎', '@W_Nelson30 Amo el horario de verano', '@MalditoHobbit Soy paramédico, trabajo en turnos, y ya llevamos 4 1/2 años de relación con mi novio. De que se puede, se puede. Con amor y comprensión de ambos todo se puede equilibrar. Saludos!', '@olguis_flores Te mando un trillon de buenas vibras 🤗🤗🤗🤗', '@cazadorandino90 @_RightWay_ Suerte a todos y en todo Pangui, siempre.', 'Happy trip!! Pásalo increíble, te lo mereces https://t.co/a0NYApjr5f', 'Exacto es un punto q valoro al cariño x barti o espina, x eso lo puse en las opciones. https://t.co/9oeO66TEx6', '@silvanna_tor Vamos a tomarnos la vida!!! Jajaaja', 'Maravilloso, faltan sólo días 😍 https://t.co/2UjTsZTU8F', 'acompañando al baby Axelito en su súper celebration 🎉1⃣🎈❤ en Talca, Chile https://t.co/p3XhYNaMTB', '#PasapalabraCHV suerte Eduardo arriba el ánimo,  vamos VALPARAÍSO', '@PataV69 Bien ahí ✌️', 'Un gin y pololeo con mi @Gabi_pazz vengo a alumbrar https://t.co/QvcpMwtMey', '🙌📖\\U0001f932 AMENN ALELUYA BUENAS NOCHES Y RECIBAMOS FORTALEZA BAJO EL PODEROSO NOMBRE DE NUESTRO SEÑOR JESUCRISTO 🙌📖\\U0001f932 AMENN en Ministerio Cristiano Un Encuentro Con Jesús https://t.co/xvxAKLKD2W', 'Aguante el papa de Carlitos, aunque tenga menos tiempo igual lo gana #PasapalabraCHV https://t.co/txInP6jkRy', 'Vamos eduuuuuuuuu!!!! 👏🏼👏🏼👏🏼👏🏼👏🏼👏🏼 todas las fichas en ti. @edo_isc #PasapalabraCHV', 'Amiguitos bellos. Me encanta que la amistad trascienda en el tiempo como si fuera ayer, pero igual veamosnos más seguido 🙄. Los loveo 🤗 #alfinresultó en Colmado Coffee &amp; Bar https://t.co/4OKZ1mVPNl', '¡Es mi cumpleaños! 🎉🎈🎈🎈🎂\\n.\\nRealmente mucho que agradecer y poco que pedir ( salud💪, vida, fortaleza, fé)  lo demás lo trabajo yo, el dinero va y viene , y aunque es sabroso tenerlo no da… https://t.co/hLK8NaHlcc', 'Pedro, como miembro de la iglesia, guerrero de la oración, evangelista y dirigente de la iglesia, ha dejado un modelo a seguir para los cristianos. #LESAdv https://t.co/lMggtqWEPM', 'BUEN DÍAAAAAA! Hace rato en pie ya 😊(😑😴😫)', 'Risa y evolución https://t.co/ptEJDaxCvj', '#Repost chilevegano (get_repost)\\n・・・\\nVoy a rifar un cupo a este taller de @Animal_Libre este sábado ♥️. Solo participarán los que le pongan like al post antes (el de la rifa para… https://t.co/UtptgVH0MS', 'Muy buenos días en esta amanecer del día viernes 10 de agosto, mis mejores deseos a todos los amigos de esta \"Plaza Pública\". Afectuosos saludos.', 'Que weaaaa! Mejor cita o mejor cita 😍🤤🤤', 'Escuchar James Blunt me da esa sensacion de confort. Back To Bedlam y All The Lost Souls son excelentes discos. High es de las mejores cancion para abrir un disco, solo superada por Losing Grip.', '@gilhino  saludos a la vale 😍❤', '@vanderfondi Se quedan con una parte de la canción no más, ni la analizan 😂', 'Recién al sobre a hacer tuto', '@xiscalo92 Buen Día Paqui!!!', 'Junto a la gran ivankadilorenzo  en los premios molotov ..fue muy rico verte y hablar un poquito,te envio un fuerte abrazo y un beso y mucho exito en todo ❤ en Iquique, Chile https://t.co/sU5qAz2FYv', '@iamorantes @LATAMAirlines Para qué calentarse la cabeza. Por lo menos nos tocó mucho mejor avión y voló más rápido. De la chela, ni idea, porque tenía que venirme manejando.', '➡ Eres importante para Dios (Parte 2) - Joe Rosa [AUDIO] https://t.co/YDrH4dJTNj', 'Siiiii hoy funcionó!!!! 💪💪💪💪 #vamosquesepuede #lapatota 😉 en Café Palermo https://t.co/b89YLvwKxk', '@gilhino  tengo un amigo que le dicen el calcetín de minero... también será su día?? Jajajaja 😄', 'Excelente! Muy bien hecho. https://t.co/Pf0cGej8Xq', 'quando a gata responde rápido https://t.co/3xwwxjKBNp', 'Que buen antecedente entrega el Presidente, ahora que hay que discutir el salario mínimo https://t.co/XhjFtg4asT', '@_sitaemi @TuMedio Si, era totalmente necesario 💙', '@RodrigoDover Bajar la ambición, siempre. Te lo dice un hueón que se ha echado dos magisters por eso mismo.', 'Cuando sea profesional me gustaría trabajar en la rehabilitación de niños en la Teletón, siempre me quedo con las historias de ellos y sería algo a toa raja😍👌🏻', '@viax Con eso estamos salvados !', 'Buenos días buenas tardes 😉', '@isapaclar @ericahenriquezo No hay peor enemigo que quedarse viviendo en el pesado. Vive tu vida!! Ella te espera!!', 'buenas noches:(((( https://t.co/EB2H7gtWuC', '@CNNChile Puro teatro !', 'Ay la cara de Nick jajaja voy a imprimir esta foto https://t.co/k0QCrn2vOS', 'Yo creo que durante esta semana fácilmente escuché 2 horas Querida de Juanga', '@RdeLobo Que bueno, me alegro mucho 👍', '@omaticaya52 Hooooola.. tan temprano!! Aún no se asoma el 🌞😯😯🍞🍫🍩☕️☕️', 'Por qué será que cada vez que vuelvo de unas vacaciones, me replanteo mi vida una y otra vez?', 'Quien madruga dios lo ayuda 👊🏼', 'Viernes, viernes, viernes #TodosSomosMagníficos . Pasadita las 7AM salimos a celebrar contigo el fin de semana en tu @RadioActivaFm     :-) https://t.co/eLKZsB0Yz0', '@CataMB_ Dia exquisito como tu xD', 'Un día más para vivir,crecer,amar, disfrutar y especialmente agradecer a Dios,al creador por tantas bendiciones. La gratitud eleva nuestra frecuencia vibratoria ❣️Nos permite ser amables. Gracias Señor 💚 https://t.co/Mu74LCoENW', '---&gt; Gracias Totales Por Esta Nochecita De JUEVES En @Enjoy_Vina #VinadelMar ANIMANDO Con Todo El KARAOKE Sin CENSURA 😎🎤 Junto a La Makina (Dvj Jano) 🎧 ... ¡Lo Pase Increible! 😋 https://t.co/6SId1FGfMy', 'A dormir... Mañana será un lindo día, have a surprise 😀', '@KenaLorenziniL Bueno a alguien de izquierda no iban a poner. Es una mujer, deseémosle éxito 🙌🏼🙌🏼🙌🏼', '@ExlibrisLana No os engañáis; si pensáis que, tú vida vale tan poco, no le quítes el privilegio ha otro de darle valor a ti importante vida!!!', 'Contenta de acompañar a Intendente @jorge_ulloa, Seremi @minvubiobio @armstrongconce y autoridades, en entrega de primeros 100 subsidios de Villa y Nueva El Triángulo de Hualpén.\\n\\n#ChileLoHacemosTodos🇨🇱\\n\\nhttps://t.co/kSTdMmdXvr https://t.co/JdbQqRSgFO', 'Viernes vamos que se puede!\\nTrámites y a trabajar 💪\\n#BuenosDias 🎈', 'Un año y fracción de la personita esa que me robo de manera consensuada el alma y el corazon ...\\n.\\n.\\n.#Milagro en Ñuñoa, Chile https://t.co/N7ucLZFUqp', 'Agrado actualizarme con Uds. #Desvelados24H #Canal24Horas abrazo, fraternal Compa Felipe. Una Manzanilla?\\nSaludos 🤝 #BuenosDias y grato fin de semana #weekend ☀ 😎 en Santiago, Chile https://t.co/CrXXC85A1E', 'Maestro!!! ❤ https://t.co/pnbzWyldyX', 'Sismo... Cuatico el ruido wn. Buena noche 🤘', '@alfaxis tremenda foto de perfil crack!', '@johancasuriaga Deja de enamorarte y contestame en wpp pajero', '@mgrace271 ¡Eres muy especial porque bendices! Un regalo: \"La sinceridad te libera de la mentira. Autor: David\"', '@Susann13 A mi también me gustó!', '@Shilumi De todas formas quiero que sepas que a pesar de la distancia si me necesitas ahí estaré, no estás sola y nunca será molestia algún mensaje tuyo. Que quiero washis ❤', '@Feddeguz ¡Me Bendices! Te regalo una dosis de #Fe: \"Y ninguna diferencia hizo entre nosotros y ellos, purificando por la fe sus corazones. [Hch 15:9 RV 1960]\"', 'Que bueno que las niñas de 13 años la tienen clara. 💚💚💚 https://t.co/viPdQvg5aF', 'Buenas noches ... en Iquique, Chile https://t.co/kcbwE0Nuq4', '@caromolinaof mucho   exito   en   todo   saludos   🤗🤗🤗👏👏👏👏', '@Piplash Ojalá pensar así, pero mi mueble se ve cada vez más bonito', '@olivertreassud1 ¡Me Bendices! Te regalo una dosis de #Amor: \"Dios siguió ayudando a José y dándole muestras de su amor, pues hizo que el carcelero lo tratara bien. [Gén 39:21 TLA]\"', 'Genial aporte don Darío, copio al Autor del Golazo @CarlosCarmonaT https://t.co/wYyKPS4gCO', '@DFinanciero SR. MINISTRO LO FELICITO. MATEMATICA SIMPLE Y SENCILLA PARA RESPONDER UNA SOBERBIA OPOSITORA Y PARTIDISTA. ESO ES TIRO POR LA CULATA. BASTA DE PALMADAS Y DEJAR LA TEMPLANZA EN SU ENFOQUE CORRESPONDIENTE.', 'A descansar, buenas noches, que descansen 😊', 'Orgulloso de tus logros @CaritoVenegasH ❤️ Que lindo es ver como te vas convirtiendo cada día en una mejor profesional, cada día mas seca y guapa 🎉 merecido descanso tienes por delante. Te quiero mucho💕']\n"
     ]
    }
   ],
   "source": [
    "# Si se desea revisar los tweets y su respectiva clasificación se puede cargar el archivo y acceder a sus elementos\n",
    "import wordgraph as wg\n",
    "tweets_clas = wg.load_matrix('tweets_clasificados')\n",
    "print(tweets_clas['positivo']) # también se puede acceder a 'negativo' y 'neutro'\n"
   ]
  },
  {
   "cell_type": "code",
   "execution_count": 24,
   "metadata": {},
   "outputs": [
    {
     "name": "stdout",
     "output_type": "stream",
     "text": [
      "{'positivo': {'positivo': 44, 'neutro': 31, 'negativo': 21}, 'negativo': {'positivo': 46, 'negativo': 25, 'neutro': 24}, 'neutro': {'neutro': 22, 'positivo': 57, 'negativo': 15}}\n"
     ]
    }
   ],
   "source": [
    "################### MODELO 1\n",
    "#Se procede a comparar la clasificación presente en tweets_clasificados, con aquella que realiza la función senti_tweets.\n",
    "#Es importante notar que se necesita analizar cientos de frases, por lo cual es lento.\n",
    "# Para facilitar el proceso es posible saltar este paso y cargar la comparación ya calculada, en el recuadro siguiente.\n",
    "import wordgraph as wg\n",
    "import sentiment_analysis as sa\n",
    "\n",
    "tweets_clas = wg.load_matrix('tweets_clasificados')\n",
    "vocab_1 = wg.load_matrix('vocab_g')\n",
    "links_1 = wg.load_matrix('links_g')\n",
    "class_clusters_1 = wg.load_matrix('class_clusters_g')\n",
    "\n",
    "class_result_1,result_1 = sa.test(tweets_clas,vocab_1,links_1,class_clusters_1)\n",
    "print(class_result_1)"
   ]
  },
  {
   "cell_type": "code",
   "execution_count": 20,
   "metadata": {},
   "outputs": [
    {
     "name": "stdout",
     "output_type": "stream",
     "text": [
      "{'positivo': {'positivo': 44, 'neutro': 31, 'negativo': 21}, 'negativo': {'positivo': 46, 'negativo': 25, 'neutro': 24}, 'neutro': {'neutro': 22, 'positivo': 57, 'negativo': 15}}\n"
     ]
    }
   ],
   "source": [
    "################### MODELO 1\n",
    "# Para evitar el lento calculo anterior, se puede cargar directamente el class_result ya calculado y guardado.\n",
    "# El diccionario class_result contiene la información de cuantos tweets positivos presentes en tweets_clasificados\n",
    "# han sido clasificados por senti_tweet como positivo, negativo o neutro, y así sucesivamente para cada estado emocional.\n",
    "import wordgraph as wg\n",
    "\n",
    "class_result_1 = wg.load_matrix('class_result_g')\n",
    "print(class_result_1)"
   ]
  },
  {
   "cell_type": "code",
   "execution_count": 22,
   "metadata": {},
   "outputs": [
    {
     "name": "stdout",
     "output_type": "stream",
     "text": [
      "El modelo 1 posee un porcentaje de acierto de  31.93 %. Adicionalmente, su matriz de confusión esta dada por,\n",
      "Normalized confusion matrix\n",
      "[[0.45833333 0.32291667 0.21875   ]\n",
      " [0.60638298 0.23404255 0.15957447]\n",
      " [0.48421053 0.25263158 0.26315789]]\n"
     ]
    },
    {
     "data": {
      "image/png": "[encoded data removed]",
      "text/plain": [
       "<matplotlib.figure.Figure at 0x14732d33400>"
      ]
     },
     "metadata": {},
     "output_type": "display_data"
    }
   ],
   "source": [
    "################### MODELO 1\n",
    "# Con el class_result ya calculado o cargado es posible crear la matriz de confusión.\n",
    "# Además se puede calcular el porcentaje de acierto del modelo.\n",
    "import plot\n",
    "import numpy as np\n",
    "\n",
    "p = 'positivo'\n",
    "n = 'negativo'\n",
    "a = 'neutro'\n",
    "    \n",
    "data_1 = np.array([[class_result_1[p][p],class_result_1[p][a],class_result_1[p][n]],\n",
    "                [class_result_1[a][p],class_result_1[a][a],class_result_1[a][n]],\n",
    "                [class_result_1[n][p],class_result_1[n][a],class_result_1[n][n]]])\n",
    "\n",
    "#Se calcula cuantos tweets fueron clasificados por senti_tweet identicamente a como estan en tweets_clasificados\n",
    "# y se divide por la cantidad total de tweets analizados para saber la razon de acierto.\n",
    "\n",
    "acierto_1 = (np.matrix.trace(data_1))/np.sum(data_1)\n",
    "\n",
    "print('El modelo 1 posee un porcentaje de acierto de ',round(acierto_1*100,2),'%. Adicionalmente, su matriz de confusión esta dada por,')\n",
    "\n",
    "#Se crea la matriz de confusión del modelo\n",
    "\n",
    "plot.plot(data_1,'Matriz de confusión del modelo 1')"
   ]
  },
  {
   "cell_type": "code",
   "execution_count": 53,
   "metadata": {},
   "outputs": [
    {
     "name": "stdout",
     "output_type": "stream",
     "text": [
      "{'positivo': {'negativo': 20, 'neutro': 23, 'positivo': 53}, 'negativo': {'positivo': 44, 'neutro': 23, 'negativo': 28}, 'neutro': {'negativo': 14, 'neutro': 34, 'positivo': 46}}\n"
     ]
    }
   ],
   "source": [
    "################### MODELO 2\n",
    "#Se procede a comparar la clasificación presente en tweets_clasificados, con aquella que realiza la función senti_tweets.\n",
    "#Es importante notar que se necesita analizar cientos de frases, por lo cual es lento.\n",
    "# Para facilitar el proceso es posible saltar este paso y cargar la comparación ya calculada, en el recuadro siguiente.\n",
    "import wordgraph as wg\n",
    "import sentiment_analysis as sa\n",
    "\n",
    "tweets_clas = wg.load_matrix('tweets_clasificados')\n",
    "vocab_2 = wg.load_matrix('vocab_i')\n",
    "links_2 = wg.load_matrix('links_i')\n",
    "class_clusters_2 = wg.load_matrix('class_clusters_i')\n",
    "\n",
    "class_result_2,result_2 = sa.test(tweets_clas,vocab_2,links_2,class_clusters_2)\n",
    "print(class_result_2)"
   ]
  },
  {
   "cell_type": "code",
   "execution_count": 23,
   "metadata": {},
   "outputs": [
    {
     "name": "stdout",
     "output_type": "stream",
     "text": [
      "{'positivo': {'negativo': 20, 'neutro': 23, 'positivo': 53}, 'negativo': {'positivo': 44, 'neutro': 23, 'negativo': 28}, 'neutro': {'negativo': 14, 'neutro': 34, 'positivo': 46}}\n"
     ]
    }
   ],
   "source": [
    "################### MODELO 2\n",
    "# Para evitar el lento calculo anterior, se puede cargar directamente el class_result ya calculado y guardado.\n",
    "# El diccionario class_result contiene la información de cuantos tweets positivos presentes en tweets_clasificados\n",
    "# han sido clasificados por senti_tweet como positivo, negativo o neutro, y así sucesivamente para cada estado emocional.\n",
    "import wordgraph as wg\n",
    "\n",
    "class_result_2 = wg.load_matrix('class_result_i')\n",
    "print(class_result_2)"
   ]
  },
  {
   "cell_type": "code",
   "execution_count": 24,
   "metadata": {},
   "outputs": [
    {
     "name": "stdout",
     "output_type": "stream",
     "text": [
      "El modelo 2 posee un porcentaje de acierto de  40.35 %. Adicionalmente, su matriz de confusión esta dada por,\n",
      "Normalized confusion matrix\n",
      "[[0.55208333 0.23958333 0.20833333]\n",
      " [0.4893617  0.36170213 0.14893617]\n",
      " [0.46315789 0.24210526 0.29473684]]\n"
     ]
    },
    {
     "data": {
      "image/png": "[encoded data removed]",
      "text/plain": [
       "<matplotlib.figure.Figure at 0x14732fffeb8>"
      ]
     },
     "metadata": {},
     "output_type": "display_data"
    }
   ],
   "source": [
    "################### MODELO 2\n",
    "# Con el class_result ya calculado o cargado es posible crear la matriz de confusión.\n",
    "# Además se puede calcular el porcentaje de acierto del modelo.\n",
    "import plot\n",
    "import numpy as np\n",
    "\n",
    "p = 'positivo'\n",
    "n = 'negativo'\n",
    "a = 'neutro'\n",
    "    \n",
    "data_2 = np.array([[class_result_2[p][p],class_result_2[p][a],class_result_2[p][n]],\n",
    "                [class_result_2[a][p],class_result_2[a][a],class_result_2[a][n]],\n",
    "                [class_result_2[n][p],class_result_2[n][a],class_result_2[n][n]]])\n",
    "\n",
    "#Se calcula cuantos tweets fueron clasificados por senti_tweet identicamente a como estan en tweets_clasificados\n",
    "# y se divide por la cantidad total de tweets analizados para saber la razon de acierto.\n",
    "\n",
    "acierto_2 = (np.matrix.trace(data_2))/np.sum(data_2)\n",
    "\n",
    "print('El modelo 2 posee un porcentaje de acierto de ',round(acierto_2*100,2),'%. Adicionalmente, su matriz de confusión esta dada por,')\n",
    "\n",
    "#Se crea la matriz de confusión del modelo\n",
    "\n",
    "plot.plot(data_2,'Matriz de confusión del modelo 2')"
   ]
  },
  {
   "cell_type": "markdown",
   "metadata": {},
   "source": [
    "# Bibliografía\n",
    "\n",
    "1) Twepy, librería de Python para acceder a Twitter API. http://www.tweepy.org/\n",
    "\n",
    "2) Gensim, librería para la creación y manejo de Word2Vec. https://radimrehurek.com/gensim/models/word2vec.html\n",
    "\n",
    "3) Sklearn, desarrollador de librerías de multiples usos. Se utilizaron diversas funciones de esta librería para paralelizar\n",
    " el calculo de matrices, y resolver problemas de optimización discretos asociados a Signed Spectral Clustering. http://scikit-learn.org\n",
    " \n",
    "4) La implementación de Signed Spectral Clustering y la utilización de sus conceptos para el calculo de funcionales y el mapeo de clusters, fue de desarrollo propio. Sin embargo, la teoría subyacente fue extraída de los siguientes papers. \n",
    "\n",
    "- Semantic Word Clusters Using Signed Spectral Clustering. Joao Sedoc, Jean Gallier, Lyle Ungar, University of Pennsylvania. Dean Foster, Amazon LLC. August 2017.\n",
    "\n",
    "- Signed Laplacian for Spectral Clustering Revisited. Knyazev, A. TR2017-001 January 2017.\n",
    "\n",
    "- Multiclass Spectral Clustering. Stella Yu, Carnegie Mellon University. Jianbo Shi, University of Pennsylvania. 2003."
   ]
  }
 ],
 "metadata": {
  "kernelspec": {
   "display_name": "Python 3",
   "language": "python",
   "name": "python3"
  },
  "language_info": {
   "codemirror_mode": {
    "name": "ipython",
    "version": 3
   },
   "file_extension": ".py",
   "mimetype": "text/x-python",
   "name": "python",
   "nbconvert_exporter": "python",
   "pygments_lexer": "ipython3",
   "version": "3.6.4"
  }
 },
 "nbformat": 4,
 "nbformat_minor": 2
}
